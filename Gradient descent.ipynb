{
 "cells": [
  {
   "cell_type": "code",
   "execution_count": 6,
   "metadata": {},
   "outputs": [],
   "source": [
    "import numpy as np"
   ]
  },
  {
   "cell_type": "code",
   "execution_count": 3,
   "metadata": {},
   "outputs": [
    {
     "name": "stdout",
     "output_type": "stream",
     "text": [
      "[ 1  2  3  4  5  6  7  8  9 10]\n"
     ]
    }
   ],
   "source": [
    "#x = np.array([1,2,3,4,5,6,7,8,9,10])\n",
    "#print(x)"
   ]
  },
  {
   "cell_type": "code",
   "execution_count": 9,
   "metadata": {},
   "outputs": [
    {
     "name": "stdout",
     "output_type": "stream",
     "text": [
      "[ 0  1  2  3  4  5  6  7  8  9 10 11 12 13 14 15 16 17 18 19 20 21 22 23\n",
      " 24 25 26 27 28 29 30 31 32 33 34 35 36 37 38 39 40 41 42 43 44 45 46 47\n",
      " 48 49 50 51 52 53 54 55 56 57 58 59 60 61 62 63 64 65 66 67 68 69 70 71\n",
      " 72 73 74 75 76 77 78 79 80 81 82 83 84 85 86 87 88 89 90 91 92 93 94 95\n",
      " 96 97 98 99]\n"
     ]
    }
   ],
   "source": [
    "x = np.arange(100)\n",
    "print(x)"
   ]
  },
  {
   "cell_type": "code",
   "execution_count": 10,
   "metadata": {},
   "outputs": [
    {
     "name": "stdout",
     "output_type": "stream",
     "text": [
      "(100,)\n"
     ]
    }
   ],
   "source": [
    "print(x.shape)"
   ]
  },
  {
   "cell_type": "code",
   "execution_count": 4,
   "metadata": {},
   "outputs": [
    {
     "name": "stdout",
     "output_type": "stream",
     "text": [
      "[25 16  9  4  1  0  1  4  9 16]\n"
     ]
    }
   ],
   "source": [
    "def error(x):\n",
    "    return (x-5)**2\n",
    "\n",
    "fx = error(x)\n",
    "print(fx)"
   ]
  },
  {
   "cell_type": "code",
   "execution_count": 5,
   "metadata": {},
   "outputs": [],
   "source": [
    "import matplotlib.pyplot as plt"
   ]
  },
  {
   "cell_type": "code",
   "execution_count": 6,
   "metadata": {},
   "outputs": [
    {
     "data": {
      "image/png": "[encoded data removed]",
      "text/plain": [
       "<Figure size 432x288 with 1 Axes>"
      ]
     },
     "metadata": {
      "needs_background": "light"
     },
     "output_type": "display_data"
    }
   ],
   "source": [
    "plt.plot(x,fx)\n",
    "plt.ylabel(\"F(X)\")\n",
    "plt.xlabel(\"X\")\n",
    "plt.show()"
   ]
  },
  {
   "cell_type": "code",
   "execution_count": 18,
   "metadata": {},
   "outputs": [],
   "source": [
    "def gradientDescent():\n",
    "    \n",
    "    x_ = 2.0\n",
    "    \n",
    "    learning_rate = 0.1\n",
    "    plt.plot(x,fx)\n",
    "    \n",
    "    for i in range(60):\n",
    "        x_ = x_ - learning_rate*2*(x_-5)\n",
    "        print(\"X %.3f Error %.2f\"%(x_,error(x_)))\n",
    "        plt.scatter(x_,error(x_))\n",
    "        \n",
    "    return x_"
   ]
  },
  {
   "cell_type": "code",
   "execution_count": 19,
   "metadata": {},
   "outputs": [
    {
     "name": "stdout",
     "output_type": "stream",
     "text": [
      "X 2.600 Error 5.76\n",
      "X 3.080 Error 3.69\n",
      "X 3.464 Error 2.36\n",
      "X 3.771 Error 1.51\n",
      "X 4.017 Error 0.97\n",
      "X 4.214 Error 0.62\n",
      "X 4.371 Error 0.40\n",
      "X 4.497 Error 0.25\n",
      "X 4.597 Error 0.16\n",
      "X 4.678 Error 0.10\n",
      "X 4.742 Error 0.07\n",
      "X 4.794 Error 0.04\n",
      "X 4.835 Error 0.03\n",
      "X 4.868 Error 0.02\n",
      "X 4.894 Error 0.01\n",
      "X 4.916 Error 0.01\n",
      "X 4.932 Error 0.00\n",
      "X 4.946 Error 0.00\n",
      "X 4.957 Error 0.00\n",
      "X 4.965 Error 0.00\n",
      "X 4.972 Error 0.00\n",
      "X 4.978 Error 0.00\n",
      "X 4.982 Error 0.00\n",
      "X 4.986 Error 0.00\n",
      "X 4.989 Error 0.00\n",
      "X 4.991 Error 0.00\n",
      "X 4.993 Error 0.00\n",
      "X 4.994 Error 0.00\n",
      "X 4.995 Error 0.00\n",
      "X 4.996 Error 0.00\n",
      "X 4.997 Error 0.00\n",
      "X 4.998 Error 0.00\n",
      "X 4.998 Error 0.00\n",
      "X 4.998 Error 0.00\n",
      "X 4.999 Error 0.00\n",
      "X 4.999 Error 0.00\n",
      "X 4.999 Error 0.00\n",
      "X 4.999 Error 0.00\n",
      "X 5.000 Error 0.00\n",
      "X 5.000 Error 0.00\n",
      "X 5.000 Error 0.00\n",
      "X 5.000 Error 0.00\n",
      "X 5.000 Error 0.00\n",
      "X 5.000 Error 0.00\n",
      "X 5.000 Error 0.00\n",
      "X 5.000 Error 0.00\n",
      "X 5.000 Error 0.00\n",
      "X 5.000 Error 0.00\n",
      "X 5.000 Error 0.00\n",
      "X 5.000 Error 0.00\n",
      "X 5.000 Error 0.00\n",
      "X 5.000 Error 0.00\n",
      "X 5.000 Error 0.00\n",
      "X 5.000 Error 0.00\n",
      "X 5.000 Error 0.00\n",
      "X 5.000 Error 0.00\n",
      "X 5.000 Error 0.00\n",
      "X 5.000 Error 0.00\n",
      "X 5.000 Error 0.00\n",
      "X 5.000 Error 0.00\n"
     ]
    },
    {
     "data": {
      "text/plain": [
       "4.9999954025133775"
      ]
     },
     "execution_count": 19,
     "metadata": {},
     "output_type": "execute_result"
    },
    {
     "data": {
      "image/png": "[encoded data removed]",
      "text/plain": [
       "<Figure size 432x288 with 1 Axes>"
      ]
     },
     "metadata": {
      "needs_background": "light"
     },
     "output_type": "display_data"
    }
   ],
   "source": [
    "gradientDescent()"
   ]
  },
  {
   "cell_type": "code",
   "execution_count": null,
   "metadata": {},
   "outputs": [],
   "source": []
  }
 ],
 "metadata": {
  "kernelspec": {
   "display_name": "Python 3",
   "language": "python",
   "name": "python3"
  },
  "language_info": {
   "codemirror_mode": {
    "name": "ipython",
    "version": 3
   },
   "file_extension": ".py",
   "mimetype": "text/x-python",
   "name": "python",
   "nbconvert_exporter": "python",
   "pygments_lexer": "ipython3",
   "version": "3.6.7"
  }
 },
 "nbformat": 4,
 "nbformat_minor": 2
}
